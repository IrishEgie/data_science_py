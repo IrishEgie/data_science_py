{
  "cells": [
    {
      "cell_type": "markdown",
      "metadata": {
        "id": "iNzDWXe6G7NF"
      },
      "source": [
        "# Introduction"
      ]
    },
    {
      "cell_type": "markdown",
      "metadata": {
        "id": "6ufIwjCFG7NG"
      },
      "source": [
        "Google Trends gives us an estimate of search volume. Let's explore if search popularity relates to other kinds of data. Perhaps there are patterns in Google's search volume and the price of Bitcoin or a hot stock like Tesla. Perhaps search volume for the term \"Unemployment Benefits\" can tell us something about the actual unemployment rate?\n",
        "\n",
        "Data Sources: <br>\n",
        "<ul>\n",
        "<li> <a href=\"https://fred.stlouisfed.org/series/UNRATE/\">Unemployment Rate from FRED</a></li>\n",
        "<li> <a href=\"https://trends.google.com/trends/explore\">Google Trends</a> </li>  \n",
        "<li> <a href=\"https://finance.yahoo.com/quote/TSLA/history?p=TSLA\">Yahoo Finance for Tesla Stock Price</a> </li>    \n",
        "<li> <a href=\"https://finance.yahoo.com/quote/BTC-USD/history?p=BTC-USD\">Yahoo Finance for Bitcoin Stock Price</a> </li>\n",
        "</ul>"
      ]
    },
    {
      "cell_type": "markdown",
      "metadata": {
        "id": "gGKu-u-RG7NH"
      },
      "source": [
        "# Import Statements"
      ]
    },
    {
      "cell_type": "code",
      "execution_count": 1,
      "metadata": {
        "id": "FCE2uffpG7NH"
      },
      "outputs": [],
      "source": [
        "import pandas as pd\n",
        "import matplotlib.pyplot as plt"
      ]
    },
    {
      "cell_type": "code",
      "source": [
        "from google.colab import drive\n",
        "drive.mount('/content/drive')"
      ],
      "metadata": {
        "colab": {
          "base_uri": "https://localhost:8080/"
        },
        "id": "e6QxF48UG-fv",
        "outputId": "f964661b-0b5d-4091-e495-054d6dc37b40"
      },
      "execution_count": 2,
      "outputs": [
        {
          "output_type": "stream",
          "name": "stdout",
          "text": [
            "Mounted at /content/drive\n"
          ]
        }
      ]
    },
    {
      "cell_type": "markdown",
      "metadata": {
        "id": "XYOMNGJ5G7NI"
      },
      "source": [
        "# Read the Data\n",
        "\n",
        "Download and add the .csv files to the same folder as your notebook."
      ]
    },
    {
      "cell_type": "code",
      "execution_count": 3,
      "metadata": {
        "id": "zD35asFKG7NI"
      },
      "outputs": [],
      "source": [
        "df_tesla = pd.read_csv('/content/drive/MyDrive/1 Dev/2 Personal Projects /data_science_py/data_science_4/TESLA Search Trend vs Price.csv')\n",
        "\n",
        "df_btc_search = pd.read_csv('/content/drive/MyDrive/1 Dev/2 Personal Projects /data_science_py/data_science_4/Bitcoin Search Trend.csv')\n",
        "df_btc_price = pd.read_csv('/content/drive/MyDrive/1 Dev/2 Personal Projects /data_science_py/data_science_4/Daily Bitcoin Price.csv')\n",
        "\n",
        "df_unemployment = pd.read_csv('/content/drive/MyDrive/1 Dev/2 Personal Projects /data_science_py/data_science_4/UE Benefits Search vs UE Rate 2004-19.csv')"
      ]
    },
    {
      "cell_type": "markdown",
      "metadata": {
        "id": "R5lygVBIG7NJ"
      },
      "source": [
        "# Data Exploration"
      ]
    },
    {
      "cell_type": "markdown",
      "metadata": {
        "id": "ajx1RNyUG7NJ"
      },
      "source": [
        "### Tesla"
      ]
    },
    {
      "cell_type": "markdown",
      "metadata": {
        "id": "GYENrX3sG7NK"
      },
      "source": [
        "**Challenge**: <br>\n",
        "<ul>\n",
        "<li>What are the shapes of the dataframes? </li>\n",
        "<li>How many rows and columns? </li>\n",
        "<li>What are the column names? </li>\n",
        "<li>Complete the f-string to show the largest/smallest number in the search data column</li>\n",
        "<li>Try the <code>.describe()</code> function to see some useful descriptive statistics</li>\n",
        "<li>What is the periodicity of the time series data (daily, weekly, monthly)? </li>\n",
        "<li>What does a value of 100 in the Google Trend search popularity actually mean?</li>\n",
        "</ul>"
      ]
    },
    {
      "cell_type": "code",
      "execution_count": 10,
      "metadata": {
        "colab": {
          "base_uri": "https://localhost:8080/"
        },
        "id": "nKlhZgLvG7NK",
        "outputId": "47f65ea4-38db-41d9-ac36-84427456fc40"
      },
      "outputs": [
        {
          "output_type": "stream",
          "name": "stdout",
          "text": [
            "Shapes of the DataFrames: {'Tesla': (124, 3), 'Bitcoin Search': (73, 2), 'Bitcoin Price': (2204, 3), 'Unemployment': (181, 3)}\n"
          ]
        }
      ],
      "source": [
        "# Get shapes of the DataFrames\n",
        "shapes = {\n",
        "    \"Tesla\": df_tesla.shape,\n",
        "    \"Bitcoin Search\": df_btc_search.shape,\n",
        "    \"Bitcoin Price\": df_btc_price.shape,\n",
        "    \"Unemployment\": df_unemployment.shape,\n",
        "}\n",
        "\n",
        "print(\"Shapes of the DataFrames:\", shapes)"
      ]
    },
    {
      "cell_type": "code",
      "source": [
        "# Get column names\n",
        "column_names = {\n",
        "    \"Tesla\": df_tesla.columns.tolist(),\n",
        "    \"Bitcoin Search\": df_btc_search.columns.tolist(),\n",
        "    \"Bitcoin Price\": df_btc_price.columns.tolist(),\n",
        "    \"Unemployment\": df_unemployment.columns.tolist(),\n",
        "}\n",
        "\n",
        "print(\"Column Names:\", column_names)\n"
      ],
      "metadata": {
        "colab": {
          "base_uri": "https://localhost:8080/"
        },
        "id": "vq7IQF_HKBng",
        "outputId": "282bfa3d-c9df-471f-9920-b2774fe9df18"
      },
      "execution_count": 17,
      "outputs": [
        {
          "output_type": "stream",
          "name": "stdout",
          "text": [
            "Column Names: {'Tesla': ['MONTH', 'TSLA_WEB_SEARCH', 'TSLA_USD_CLOSE'], 'Bitcoin Search': ['MONTH', 'BTC_NEWS_SEARCH'], 'Bitcoin Price': ['DATE', 'CLOSE', 'VOLUME'], 'Unemployment': ['MONTH', 'UE_BENEFITS_WEB_SEARCH', 'UNRATE']}\n"
          ]
        }
      ]
    },
    {
      "cell_type": "code",
      "source": [
        "# Find largest and smallest values in the search data columns\n",
        "largest_tesla = df_tesla['TSLA_WEB_SEARCH'].max()\n",
        "smallest_tesla = df_tesla['TSLA_WEB_SEARCH'].min()\n",
        "largest_btc = df_btc_search['BTC_NEWS_SEARCH'].max()\n",
        "smallest_btc = df_btc_search['BTC_NEWS_SEARCH'].min()\n",
        "\n",
        "print(f\"Largest Tesla Search Trend: {largest_tesla}, Smallest Tesla Search Trend: {smallest_tesla}\")\n",
        "print(f\"Largest Bitcoin Search Trend: {largest_btc}, Smallest Bitcoin Search Trend: {smallest_btc}\")\n"
      ],
      "metadata": {
        "colab": {
          "base_uri": "https://localhost:8080/"
        },
        "id": "MiCC1aQ7KFKB",
        "outputId": "a826096f-7cd7-4f15-f2c3-3ed467c9a8ee"
      },
      "execution_count": 13,
      "outputs": [
        {
          "output_type": "stream",
          "name": "stdout",
          "text": [
            "Largest Tesla Search Trend: 31, Smallest Tesla Search Trend: 2\n",
            "Largest Bitcoin Search Trend: 100, Smallest Bitcoin Search Trend: 3\n"
          ]
        }
      ]
    },
    {
      "cell_type": "markdown",
      "metadata": {
        "id": "jreKzaXdG7NL"
      },
      "source": [
        "### Unemployment Data"
      ]
    },
    {
      "cell_type": "code",
      "execution_count": 15,
      "metadata": {
        "colab": {
          "base_uri": "https://localhost:8080/",
          "height": 332
        },
        "id": "1gRQzHaOG7NL",
        "outputId": "55e33396-43fe-4f97-ede9-7990c4cee8a4"
      },
      "outputs": [
        {
          "output_type": "display_data",
          "data": {
            "text/plain": [
              "                Tesla                 Bitcoin Search Bitcoin Price  \\\n",
              "      TSLA_WEB_SEARCH TSLA_USD_CLOSE BTC_NEWS_SEARCH         CLOSE   \n",
              "count      124.000000     124.000000       73.000000   2203.000000   \n",
              "mean         8.725806      50.962145       15.013699   4429.421245   \n",
              "std          5.870332      65.908389       15.146959   4148.150071   \n",
              "min          2.000000       3.896000        3.000000    178.102997   \n",
              "25%          3.750000       7.352500        5.000000    433.629502   \n",
              "50%          8.000000      44.653000       14.000000   3637.520020   \n",
              "75%         12.000000      58.991999       18.000000   7997.372803   \n",
              "max         31.000000     498.320007      100.000000  19497.400391   \n",
              "\n",
              "                              Unemployment              \n",
              "             VOLUME UE_BENEFITS_WEB_SEARCH      UNRATE  \n",
              "count  2.203000e+03             181.000000  181.000000  \n",
              "mean   8.043622e+09              35.110497    6.217680  \n",
              "std    1.176529e+10              20.484925    1.891859  \n",
              "min    5.914570e+06              14.000000    3.700000  \n",
              "25%    6.029915e+07              21.000000    4.700000  \n",
              "50%    2.018890e+09              26.000000    5.400000  \n",
              "75%    1.322478e+10              45.000000    7.800000  \n",
              "max    7.415677e+10             100.000000   10.000000  "
            ],
            "text/html": [
              "\n",
              "  <div id=\"df-f5c67bcc-8afb-4a07-ab89-aefe495666e3\" class=\"colab-df-container\">\n",
              "    <div>\n",
              "<style scoped>\n",
              "    .dataframe tbody tr th:only-of-type {\n",
              "        vertical-align: middle;\n",
              "    }\n",
              "\n",
              "    .dataframe tbody tr th {\n",
              "        vertical-align: top;\n",
              "    }\n",
              "\n",
              "    .dataframe thead tr th {\n",
              "        text-align: left;\n",
              "    }\n",
              "</style>\n",
              "<table border=\"1\" class=\"dataframe\">\n",
              "  <thead>\n",
              "    <tr>\n",
              "      <th></th>\n",
              "      <th colspan=\"2\" halign=\"left\">Tesla</th>\n",
              "      <th>Bitcoin Search</th>\n",
              "      <th colspan=\"2\" halign=\"left\">Bitcoin Price</th>\n",
              "      <th colspan=\"2\" halign=\"left\">Unemployment</th>\n",
              "    </tr>\n",
              "    <tr>\n",
              "      <th></th>\n",
              "      <th>TSLA_WEB_SEARCH</th>\n",
              "      <th>TSLA_USD_CLOSE</th>\n",
              "      <th>BTC_NEWS_SEARCH</th>\n",
              "      <th>CLOSE</th>\n",
              "      <th>VOLUME</th>\n",
              "      <th>UE_BENEFITS_WEB_SEARCH</th>\n",
              "      <th>UNRATE</th>\n",
              "    </tr>\n",
              "  </thead>\n",
              "  <tbody>\n",
              "    <tr>\n",
              "      <th>count</th>\n",
              "      <td>124.000000</td>\n",
              "      <td>124.000000</td>\n",
              "      <td>73.000000</td>\n",
              "      <td>2203.000000</td>\n",
              "      <td>2.203000e+03</td>\n",
              "      <td>181.000000</td>\n",
              "      <td>181.000000</td>\n",
              "    </tr>\n",
              "    <tr>\n",
              "      <th>mean</th>\n",
              "      <td>8.725806</td>\n",
              "      <td>50.962145</td>\n",
              "      <td>15.013699</td>\n",
              "      <td>4429.421245</td>\n",
              "      <td>8.043622e+09</td>\n",
              "      <td>35.110497</td>\n",
              "      <td>6.217680</td>\n",
              "    </tr>\n",
              "    <tr>\n",
              "      <th>std</th>\n",
              "      <td>5.870332</td>\n",
              "      <td>65.908389</td>\n",
              "      <td>15.146959</td>\n",
              "      <td>4148.150071</td>\n",
              "      <td>1.176529e+10</td>\n",
              "      <td>20.484925</td>\n",
              "      <td>1.891859</td>\n",
              "    </tr>\n",
              "    <tr>\n",
              "      <th>min</th>\n",
              "      <td>2.000000</td>\n",
              "      <td>3.896000</td>\n",
              "      <td>3.000000</td>\n",
              "      <td>178.102997</td>\n",
              "      <td>5.914570e+06</td>\n",
              "      <td>14.000000</td>\n",
              "      <td>3.700000</td>\n",
              "    </tr>\n",
              "    <tr>\n",
              "      <th>25%</th>\n",
              "      <td>3.750000</td>\n",
              "      <td>7.352500</td>\n",
              "      <td>5.000000</td>\n",
              "      <td>433.629502</td>\n",
              "      <td>6.029915e+07</td>\n",
              "      <td>21.000000</td>\n",
              "      <td>4.700000</td>\n",
              "    </tr>\n",
              "    <tr>\n",
              "      <th>50%</th>\n",
              "      <td>8.000000</td>\n",
              "      <td>44.653000</td>\n",
              "      <td>14.000000</td>\n",
              "      <td>3637.520020</td>\n",
              "      <td>2.018890e+09</td>\n",
              "      <td>26.000000</td>\n",
              "      <td>5.400000</td>\n",
              "    </tr>\n",
              "    <tr>\n",
              "      <th>75%</th>\n",
              "      <td>12.000000</td>\n",
              "      <td>58.991999</td>\n",
              "      <td>18.000000</td>\n",
              "      <td>7997.372803</td>\n",
              "      <td>1.322478e+10</td>\n",
              "      <td>45.000000</td>\n",
              "      <td>7.800000</td>\n",
              "    </tr>\n",
              "    <tr>\n",
              "      <th>max</th>\n",
              "      <td>31.000000</td>\n",
              "      <td>498.320007</td>\n",
              "      <td>100.000000</td>\n",
              "      <td>19497.400391</td>\n",
              "      <td>7.415677e+10</td>\n",
              "      <td>100.000000</td>\n",
              "      <td>10.000000</td>\n",
              "    </tr>\n",
              "  </tbody>\n",
              "</table>\n",
              "</div>\n",
              "    <div class=\"colab-df-buttons\">\n",
              "\n",
              "  <div class=\"colab-df-container\">\n",
              "    <button class=\"colab-df-convert\" onclick=\"convertToInteractive('df-f5c67bcc-8afb-4a07-ab89-aefe495666e3')\"\n",
              "            title=\"Convert this dataframe to an interactive table.\"\n",
              "            style=\"display:none;\">\n",
              "\n",
              "  <svg xmlns=\"http://www.w3.org/2000/svg\" height=\"24px\" viewBox=\"0 -960 960 960\">\n",
              "    <path d=\"M120-120v-720h720v720H120Zm60-500h600v-160H180v160Zm220 220h160v-160H400v160Zm0 220h160v-160H400v160ZM180-400h160v-160H180v160Zm440 0h160v-160H620v160ZM180-180h160v-160H180v160Zm440 0h160v-160H620v160Z\"/>\n",
              "  </svg>\n",
              "    </button>\n",
              "\n",
              "  <style>\n",
              "    .colab-df-container {\n",
              "      display:flex;\n",
              "      gap: 12px;\n",
              "    }\n",
              "\n",
              "    .colab-df-convert {\n",
              "      background-color: #E8F0FE;\n",
              "      border: none;\n",
              "      border-radius: 50%;\n",
              "      cursor: pointer;\n",
              "      display: none;\n",
              "      fill: #1967D2;\n",
              "      height: 32px;\n",
              "      padding: 0 0 0 0;\n",
              "      width: 32px;\n",
              "    }\n",
              "\n",
              "    .colab-df-convert:hover {\n",
              "      background-color: #E2EBFA;\n",
              "      box-shadow: 0px 1px 2px rgba(60, 64, 67, 0.3), 0px 1px 3px 1px rgba(60, 64, 67, 0.15);\n",
              "      fill: #174EA6;\n",
              "    }\n",
              "\n",
              "    .colab-df-buttons div {\n",
              "      margin-bottom: 4px;\n",
              "    }\n",
              "\n",
              "    [theme=dark] .colab-df-convert {\n",
              "      background-color: #3B4455;\n",
              "      fill: #D2E3FC;\n",
              "    }\n",
              "\n",
              "    [theme=dark] .colab-df-convert:hover {\n",
              "      background-color: #434B5C;\n",
              "      box-shadow: 0px 1px 3px 1px rgba(0, 0, 0, 0.15);\n",
              "      filter: drop-shadow(0px 1px 2px rgba(0, 0, 0, 0.3));\n",
              "      fill: #FFFFFF;\n",
              "    }\n",
              "  </style>\n",
              "\n",
              "    <script>\n",
              "      const buttonEl =\n",
              "        document.querySelector('#df-f5c67bcc-8afb-4a07-ab89-aefe495666e3 button.colab-df-convert');\n",
              "      buttonEl.style.display =\n",
              "        google.colab.kernel.accessAllowed ? 'block' : 'none';\n",
              "\n",
              "      async function convertToInteractive(key) {\n",
              "        const element = document.querySelector('#df-f5c67bcc-8afb-4a07-ab89-aefe495666e3');\n",
              "        const dataTable =\n",
              "          await google.colab.kernel.invokeFunction('convertToInteractive',\n",
              "                                                    [key], {});\n",
              "        if (!dataTable) return;\n",
              "\n",
              "        const docLinkHtml = 'Like what you see? Visit the ' +\n",
              "          '<a target=\"_blank\" href=https://colab.research.google.com/notebooks/data_table.ipynb>data table notebook</a>'\n",
              "          + ' to learn more about interactive tables.';\n",
              "        element.innerHTML = '';\n",
              "        dataTable['output_type'] = 'display_data';\n",
              "        await google.colab.output.renderOutput(dataTable, element);\n",
              "        const docLink = document.createElement('div');\n",
              "        docLink.innerHTML = docLinkHtml;\n",
              "        element.appendChild(docLink);\n",
              "      }\n",
              "    </script>\n",
              "  </div>\n",
              "\n",
              "\n",
              "<div id=\"df-87722887-fcc8-4b7d-9ec4-5c6402d31118\">\n",
              "  <button class=\"colab-df-quickchart\" onclick=\"quickchart('df-87722887-fcc8-4b7d-9ec4-5c6402d31118')\"\n",
              "            title=\"Suggest charts\"\n",
              "            style=\"display:none;\">\n",
              "\n",
              "<svg xmlns=\"http://www.w3.org/2000/svg\" height=\"24px\"viewBox=\"0 0 24 24\"\n",
              "     width=\"24px\">\n",
              "    <g>\n",
              "        <path d=\"M19 3H5c-1.1 0-2 .9-2 2v14c0 1.1.9 2 2 2h14c1.1 0 2-.9 2-2V5c0-1.1-.9-2-2-2zM9 17H7v-7h2v7zm4 0h-2V7h2v10zm4 0h-2v-4h2v4z\"/>\n",
              "    </g>\n",
              "</svg>\n",
              "  </button>\n",
              "\n",
              "<style>\n",
              "  .colab-df-quickchart {\n",
              "      --bg-color: #E8F0FE;\n",
              "      --fill-color: #1967D2;\n",
              "      --hover-bg-color: #E2EBFA;\n",
              "      --hover-fill-color: #174EA6;\n",
              "      --disabled-fill-color: #AAA;\n",
              "      --disabled-bg-color: #DDD;\n",
              "  }\n",
              "\n",
              "  [theme=dark] .colab-df-quickchart {\n",
              "      --bg-color: #3B4455;\n",
              "      --fill-color: #D2E3FC;\n",
              "      --hover-bg-color: #434B5C;\n",
              "      --hover-fill-color: #FFFFFF;\n",
              "      --disabled-bg-color: #3B4455;\n",
              "      --disabled-fill-color: #666;\n",
              "  }\n",
              "\n",
              "  .colab-df-quickchart {\n",
              "    background-color: var(--bg-color);\n",
              "    border: none;\n",
              "    border-radius: 50%;\n",
              "    cursor: pointer;\n",
              "    display: none;\n",
              "    fill: var(--fill-color);\n",
              "    height: 32px;\n",
              "    padding: 0;\n",
              "    width: 32px;\n",
              "  }\n",
              "\n",
              "  .colab-df-quickchart:hover {\n",
              "    background-color: var(--hover-bg-color);\n",
              "    box-shadow: 0 1px 2px rgba(60, 64, 67, 0.3), 0 1px 3px 1px rgba(60, 64, 67, 0.15);\n",
              "    fill: var(--button-hover-fill-color);\n",
              "  }\n",
              "\n",
              "  .colab-df-quickchart-complete:disabled,\n",
              "  .colab-df-quickchart-complete:disabled:hover {\n",
              "    background-color: var(--disabled-bg-color);\n",
              "    fill: var(--disabled-fill-color);\n",
              "    box-shadow: none;\n",
              "  }\n",
              "\n",
              "  .colab-df-spinner {\n",
              "    border: 2px solid var(--fill-color);\n",
              "    border-color: transparent;\n",
              "    border-bottom-color: var(--fill-color);\n",
              "    animation:\n",
              "      spin 1s steps(1) infinite;\n",
              "  }\n",
              "\n",
              "  @keyframes spin {\n",
              "    0% {\n",
              "      border-color: transparent;\n",
              "      border-bottom-color: var(--fill-color);\n",
              "      border-left-color: var(--fill-color);\n",
              "    }\n",
              "    20% {\n",
              "      border-color: transparent;\n",
              "      border-left-color: var(--fill-color);\n",
              "      border-top-color: var(--fill-color);\n",
              "    }\n",
              "    30% {\n",
              "      border-color: transparent;\n",
              "      border-left-color: var(--fill-color);\n",
              "      border-top-color: var(--fill-color);\n",
              "      border-right-color: var(--fill-color);\n",
              "    }\n",
              "    40% {\n",
              "      border-color: transparent;\n",
              "      border-right-color: var(--fill-color);\n",
              "      border-top-color: var(--fill-color);\n",
              "    }\n",
              "    60% {\n",
              "      border-color: transparent;\n",
              "      border-right-color: var(--fill-color);\n",
              "    }\n",
              "    80% {\n",
              "      border-color: transparent;\n",
              "      border-right-color: var(--fill-color);\n",
              "      border-bottom-color: var(--fill-color);\n",
              "    }\n",
              "    90% {\n",
              "      border-color: transparent;\n",
              "      border-bottom-color: var(--fill-color);\n",
              "    }\n",
              "  }\n",
              "</style>\n",
              "\n",
              "  <script>\n",
              "    async function quickchart(key) {\n",
              "      const quickchartButtonEl =\n",
              "        document.querySelector('#' + key + ' button');\n",
              "      quickchartButtonEl.disabled = true;  // To prevent multiple clicks.\n",
              "      quickchartButtonEl.classList.add('colab-df-spinner');\n",
              "      try {\n",
              "        const charts = await google.colab.kernel.invokeFunction(\n",
              "            'suggestCharts', [key], {});\n",
              "      } catch (error) {\n",
              "        console.error('Error during call to suggestCharts:', error);\n",
              "      }\n",
              "      quickchartButtonEl.classList.remove('colab-df-spinner');\n",
              "      quickchartButtonEl.classList.add('colab-df-quickchart-complete');\n",
              "    }\n",
              "    (() => {\n",
              "      let quickchartButtonEl =\n",
              "        document.querySelector('#df-87722887-fcc8-4b7d-9ec4-5c6402d31118 button');\n",
              "      quickchartButtonEl.style.display =\n",
              "        google.colab.kernel.accessAllowed ? 'block' : 'none';\n",
              "    })();\n",
              "  </script>\n",
              "</div>\n",
              "\n",
              "  <div id=\"id_f570799a-b34b-4e63-add0-945384a3e741\">\n",
              "    <style>\n",
              "      .colab-df-generate {\n",
              "        background-color: #E8F0FE;\n",
              "        border: none;\n",
              "        border-radius: 50%;\n",
              "        cursor: pointer;\n",
              "        display: none;\n",
              "        fill: #1967D2;\n",
              "        height: 32px;\n",
              "        padding: 0 0 0 0;\n",
              "        width: 32px;\n",
              "      }\n",
              "\n",
              "      .colab-df-generate:hover {\n",
              "        background-color: #E2EBFA;\n",
              "        box-shadow: 0px 1px 2px rgba(60, 64, 67, 0.3), 0px 1px 3px 1px rgba(60, 64, 67, 0.15);\n",
              "        fill: #174EA6;\n",
              "      }\n",
              "\n",
              "      [theme=dark] .colab-df-generate {\n",
              "        background-color: #3B4455;\n",
              "        fill: #D2E3FC;\n",
              "      }\n",
              "\n",
              "      [theme=dark] .colab-df-generate:hover {\n",
              "        background-color: #434B5C;\n",
              "        box-shadow: 0px 1px 3px 1px rgba(0, 0, 0, 0.15);\n",
              "        filter: drop-shadow(0px 1px 2px rgba(0, 0, 0, 0.3));\n",
              "        fill: #FFFFFF;\n",
              "      }\n",
              "    </style>\n",
              "    <button class=\"colab-df-generate\" onclick=\"generateWithVariable('descriptive_stats_table')\"\n",
              "            title=\"Generate code using this dataframe.\"\n",
              "            style=\"display:none;\">\n",
              "\n",
              "  <svg xmlns=\"http://www.w3.org/2000/svg\" height=\"24px\"viewBox=\"0 0 24 24\"\n",
              "       width=\"24px\">\n",
              "    <path d=\"M7,19H8.4L18.45,9,17,7.55,7,17.6ZM5,21V16.75L18.45,3.32a2,2,0,0,1,2.83,0l1.4,1.43a1.91,1.91,0,0,1,.58,1.4,1.91,1.91,0,0,1-.58,1.4L9.25,21ZM18.45,9,17,7.55Zm-12,3A5.31,5.31,0,0,0,4.9,8.1,5.31,5.31,0,0,0,1,6.5,5.31,5.31,0,0,0,4.9,4.9,5.31,5.31,0,0,0,6.5,1,5.31,5.31,0,0,0,8.1,4.9,5.31,5.31,0,0,0,12,6.5,5.46,5.46,0,0,0,6.5,12Z\"/>\n",
              "  </svg>\n",
              "    </button>\n",
              "    <script>\n",
              "      (() => {\n",
              "      const buttonEl =\n",
              "        document.querySelector('#id_f570799a-b34b-4e63-add0-945384a3e741 button.colab-df-generate');\n",
              "      buttonEl.style.display =\n",
              "        google.colab.kernel.accessAllowed ? 'block' : 'none';\n",
              "\n",
              "      buttonEl.onclick = () => {\n",
              "        google.colab.notebook.generateWithVariable('descriptive_stats_table');\n",
              "      }\n",
              "      })();\n",
              "    </script>\n",
              "  </div>\n",
              "\n",
              "    </div>\n",
              "  </div>\n"
            ],
            "application/vnd.google.colaboratory.intrinsic+json": {
              "type": "dataframe",
              "variable_name": "descriptive_stats_table",
              "summary": "{\n  \"name\": \"descriptive_stats_table\",\n  \"rows\": 8,\n  \"fields\": [\n    {\n      \"column\": [\n        \"Tesla\",\n        \"TSLA_WEB_SEARCH\"\n      ],\n      \"properties\": {\n        \"dtype\": \"number\",\n        \"std\": 41.23737692266791,\n        \"min\": 2.0,\n        \"max\": 124.0,\n        \"num_unique_values\": 8,\n        \"samples\": [\n          8.725806451612904,\n          8.0,\n          124.0\n        ],\n        \"semantic_type\": \"\",\n        \"description\": \"\"\n      }\n    },\n    {\n      \"column\": [\n        \"Tesla\",\n        \"TSLA_USD_CLOSE\"\n      ],\n      \"properties\": {\n        \"dtype\": \"number\",\n        \"std\": 162.56894200254126,\n        \"min\": 3.896,\n        \"max\": 498.320007,\n        \"num_unique_values\": 8,\n        \"samples\": [\n          50.962145427419344,\n          44.653,\n          124.0\n        ],\n        \"semantic_type\": \"\",\n        \"description\": \"\"\n      }\n    },\n    {\n      \"column\": [\n        \"Bitcoin Search\",\n        \"BTC_NEWS_SEARCH\"\n      ],\n      \"properties\": {\n        \"dtype\": \"number\",\n        \"std\": 35.75103063005132,\n        \"min\": 3.0,\n        \"max\": 100.0,\n        \"num_unique_values\": 8,\n        \"samples\": [\n          15.013698630136986,\n          14.0,\n          73.0\n        ],\n        \"semantic_type\": \"\",\n        \"description\": \"\"\n      }\n    },\n    {\n      \"column\": [\n        \"Bitcoin Price\",\n        \"CLOSE\"\n      ],\n      \"properties\": {\n        \"dtype\": \"number\",\n        \"std\": 6247.232100202745,\n        \"min\": 178.102997,\n        \"max\": 19497.400391,\n        \"num_unique_values\": 8,\n        \"samples\": [\n          4429.421245089878,\n          3637.52002,\n          2203.0\n        ],\n        \"semantic_type\": \"\",\n        \"description\": \"\"\n      }\n    },\n    {\n      \"column\": [\n        \"Bitcoin Price\",\n        \"VOLUME\"\n      ],\n      \"properties\": {\n        \"dtype\": \"number\",\n        \"std\": 25039053436.285816,\n        \"min\": 2203.0,\n        \"max\": 74156772074.0,\n        \"num_unique_values\": 8,\n        \"samples\": [\n          8043622390.137994,\n          2018889984.0,\n          2203.0\n        ],\n        \"semantic_type\": \"\",\n        \"description\": \"\"\n      }\n    },\n    {\n      \"column\": [\n        \"Unemployment\",\n        \"UE_BENEFITS_WEB_SEARCH\"\n      ],\n      \"properties\": {\n        \"dtype\": \"number\",\n        \"std\": 57.650474747502585,\n        \"min\": 14.0,\n        \"max\": 181.0,\n        \"num_unique_values\": 8,\n        \"samples\": [\n          35.110497237569064,\n          26.0,\n          181.0\n        ],\n        \"semantic_type\": \"\",\n        \"description\": \"\"\n      }\n    },\n    {\n      \"column\": [\n        \"Unemployment\",\n        \"UNRATE\"\n      ],\n      \"properties\": {\n        \"dtype\": \"number\",\n        \"std\": 62.036776100720814,\n        \"min\": 1.8918589115446518,\n        \"max\": 181.0,\n        \"num_unique_values\": 8,\n        \"samples\": [\n          6.21767955801105,\n          5.4,\n          181.0\n        ],\n        \"semantic_type\": \"\",\n        \"description\": \"\"\n      }\n    }\n  ]\n}"
            }
          },
          "metadata": {}
        }
      ],
      "source": [
        "import pandas as pd\n",
        "\n",
        "# Descriptive statistics\n",
        "describe_tesla = df_tesla.describe()\n",
        "describe_btc_search = df_btc_search.describe()\n",
        "describe_btc_price = df_btc_price.describe()\n",
        "describe_unemployment = df_unemployment.describe()\n",
        "\n",
        "# Create a list of DataFrames\n",
        "dfs = [describe_tesla, describe_btc_search, describe_btc_price, describe_unemployment]\n",
        "\n",
        "# Create a list of DataFrame names\n",
        "df_names = ['Tesla', 'Bitcoin Search', 'Bitcoin Price', 'Unemployment']\n",
        "\n",
        "# Concatenate the DataFrames and display as a table\n",
        "descriptive_stats_table = pd.concat(dfs, keys=df_names, axis=1)\n",
        "display(descriptive_stats_table)"
      ]
    },
    {
      "cell_type": "code",
      "execution_count": 18,
      "metadata": {
        "colab": {
          "base_uri": "https://localhost:8080/"
        },
        "id": "guvycrOyG7NL",
        "outputId": "706226c7-2e8c-422b-8f11-20e884156bbc"
      },
      "outputs": [
        {
          "output_type": "stream",
          "name": "stdout",
          "text": [
            "Periodicity of Tesla: 31 days 00:00:00\n",
            "Periodicity of Bitcoin Search: 31 days 00:00:00\n",
            "Periodicity of Bitcoin Price: 1 days 00:00:00\n",
            "Periodicity of Unemployment: 31 days 00:00:00\n"
          ]
        }
      ],
      "source": [
        "# Checking periodicity\n",
        "periodicity_tesla = pd.to_datetime(df_tesla['MONTH']).diff().mode()[0]\n",
        "periodicity_btc_search = pd.to_datetime(df_btc_search['MONTH']).diff().mode()[0]\n",
        "periodicity_btc_price = pd.to_datetime(df_btc_price['DATE']).diff().mode()[0]\n",
        "periodicity_unemployment = pd.to_datetime(df_unemployment['MONTH']).diff().mode()[0]\n",
        "\n",
        "print(\"Periodicity of Tesla:\", periodicity_tesla)\n",
        "print(\"Periodicity of Bitcoin Search:\", periodicity_btc_search)\n",
        "print(\"Periodicity of Bitcoin Price:\", periodicity_btc_price)\n",
        "print(\"Periodicity of Unemployment:\", periodicity_unemployment)\n"
      ]
    },
    {
      "cell_type": "code",
      "source": [
        "# Checking periodicity\n",
        "periodicity_tesla = pd.to_datetime(df_tesla['MONTH']).diff().mode()[0]\n",
        "periodicity_btc_search = pd.to_datetime(df_btc_search['MONTH']).diff().mode()[0]\n",
        "periodicity_btc_price = pd.to_datetime(df_btc_price['DATE']).diff().mode()[0]\n",
        "periodicity_unemployment = pd.to_datetime(df_unemployment['MONTH']).diff().mode()[0]\n",
        "\n",
        "print(\"Periodicity of Tesla:\", periodicity_tesla)\n",
        "print(\"Periodicity of Bitcoin Search:\", periodicity_btc_search)\n",
        "print(\"Periodicity of Bitcoin Price:\", periodicity_btc_price)\n",
        "print(\"Periodicity of Unemployment:\", periodicity_unemployment)\n"
      ],
      "metadata": {
        "colab": {
          "base_uri": "https://localhost:8080/"
        },
        "id": "rK2RkjE-MP5r",
        "outputId": "c3297488-97e0-4a06-b88b-db0c957dbc89"
      },
      "execution_count": 19,
      "outputs": [
        {
          "output_type": "stream",
          "name": "stdout",
          "text": [
            "Periodicity of Tesla: 31 days 00:00:00\n",
            "Periodicity of Bitcoin Search: 31 days 00:00:00\n",
            "Periodicity of Bitcoin Price: 1 days 00:00:00\n",
            "Periodicity of Unemployment: 31 days 00:00:00\n"
          ]
        }
      ]
    },
    {
      "cell_type": "markdown",
      "metadata": {
        "id": "Z11uia0qG7NM"
      },
      "source": [
        "# Data Cleaning"
      ]
    },
    {
      "cell_type": "markdown",
      "metadata": {
        "id": "LzkuyczcG7NM"
      },
      "source": [
        "### Check for Missing Values"
      ]
    },
    {
      "cell_type": "markdown",
      "metadata": {
        "id": "tlmTUSObG7NM"
      },
      "source": [
        "**Challenge**: Are there any missing values in any of the dataframes? If so, which row/rows have missing values? How many missing values are there?"
      ]
    },
    {
      "cell_type": "code",
      "execution_count": 21,
      "metadata": {
        "colab": {
          "base_uri": "https://localhost:8080/"
        },
        "id": "Wv4nqTiRG7NM",
        "outputId": "17504d31-5383-48f8-c156-410dbaa3024b"
      },
      "outputs": [
        {
          "output_type": "stream",
          "name": "stdout",
          "text": [
            "Missing values for Tesla:\n",
            "MONTH              0\n",
            "TSLA_WEB_SEARCH    0\n",
            "TSLA_USD_CLOSE     0\n",
            "dtype: int64\n",
            "\n",
            "Rows with missing values in Tesla:\n",
            "Empty DataFrame\n",
            "Columns: [MONTH, TSLA_WEB_SEARCH, TSLA_USD_CLOSE]\n",
            "Index: []\n",
            "\n",
            "Total missing values in Tesla: 0\n",
            "\n",
            "Missing values for Unemployment:\n",
            "MONTH                     0\n",
            "UE_BENEFITS_WEB_SEARCH    0\n",
            "UNRATE                    0\n",
            "dtype: int64\n",
            "\n",
            "Rows with missing values in Unemployment:\n",
            "Empty DataFrame\n",
            "Columns: [MONTH, UE_BENEFITS_WEB_SEARCH, UNRATE]\n",
            "Index: []\n",
            "\n",
            "Total missing values in Unemployment: 0\n",
            "\n",
            "Missing values for BTC Search:\n",
            "MONTH              0\n",
            "BTC_NEWS_SEARCH    0\n",
            "dtype: int64\n",
            "\n",
            "Rows with missing values in BTC Search:\n",
            "Empty DataFrame\n",
            "Columns: [MONTH, BTC_NEWS_SEARCH]\n",
            "Index: []\n",
            "\n",
            "Total missing values in BTC Search: 0\n",
            "\n"
          ]
        }
      ],
      "source": [
        "# Check for missing values in each DataFrame\n",
        "missing_tesla = df_tesla.isnull().sum()\n",
        "missing_unemployment = df_unemployment.isnull().sum()\n",
        "missing_btc_search = df_btc_search.isnull().sum()\n",
        "\n",
        "# Identify rows with missing values\n",
        "tesla_missing_rows = df_tesla[df_tesla.isnull().any(axis=1)]\n",
        "unemployment_missing_rows = df_unemployment[df_unemployment.isnull().any(axis=1)]\n",
        "btc_search_missing_rows = df_btc_search[df_btc_search.isnull().any(axis=1)]\n",
        "\n",
        "# Print results\n",
        "print(f'Missing values for Tesla:\\n{missing_tesla}\\n')\n",
        "print(f'Rows with missing values in Tesla:\\n{tesla_missing_rows}\\n')\n",
        "print(f'Total missing values in Tesla: {tesla_missing_rows.isnull().sum().sum()}\\n')\n",
        "\n",
        "print(f'Missing values for Unemployment:\\n{missing_unemployment}\\n')\n",
        "print(f'Rows with missing values in Unemployment:\\n{unemployment_missing_rows}\\n')\n",
        "print(f'Total missing values in Unemployment: {unemployment_missing_rows.isnull().sum().sum()}\\n')\n",
        "\n",
        "print(f'Missing values for BTC Search:\\n{missing_btc_search}\\n')\n",
        "print(f'Rows with missing values in BTC Search:\\n{btc_search_missing_rows}\\n')\n",
        "print(f'Total missing values in BTC Search: {btc_search_missing_rows.isnull().sum().sum()}\\n')\n"
      ]
    },
    {
      "cell_type": "code",
      "execution_count": 23,
      "metadata": {
        "colab": {
          "base_uri": "https://localhost:8080/"
        },
        "id": "4w8UhbPSG7NM",
        "outputId": "71efbe0c-aa6b-437a-f492-13b69a6b54b3"
      },
      "outputs": [
        {
          "output_type": "stream",
          "name": "stdout",
          "text": [
            "Missing values for Tesla:\n",
            "MONTH              0\n",
            "TSLA_WEB_SEARCH    0\n",
            "TSLA_USD_CLOSE     0\n",
            "dtype: int64\n",
            "\n",
            "Total missing values in Tesla: 0\n",
            "\n",
            "No missing values in Tesla.\n",
            "\n",
            "Missing values for Unemployment:\n",
            "MONTH                     0\n",
            "UE_BENEFITS_WEB_SEARCH    0\n",
            "UNRATE                    0\n",
            "dtype: int64\n",
            "\n",
            "Total missing values in Unemployment: 0\n",
            "\n",
            "No missing values in Unemployment.\n",
            "\n",
            "Missing values for Bitcoin Search:\n",
            "MONTH              0\n",
            "BTC_NEWS_SEARCH    0\n",
            "dtype: int64\n",
            "\n",
            "Total missing values in Bitcoin Search: 0\n",
            "\n",
            "No missing values in Bitcoin Search.\n",
            "\n",
            "Missing values for Bitcoin Price:\n",
            "DATE      0\n",
            "CLOSE     1\n",
            "VOLUME    1\n",
            "dtype: int64\n",
            "\n",
            "Total missing values in Bitcoin Price: 2\n",
            "\n",
            "Rows with missing values in Bitcoin Price:\n",
            "            DATE  CLOSE  VOLUME\n",
            "2148  2020-08-04    NaN     NaN\n",
            "\n"
          ]
        }
      ],
      "source": [
        "# Function to check for missing values\n",
        "def check_missing_values(df, name):\n",
        "    missing_values_count = df.isnull().sum().sum()  # Total missing values\n",
        "    missing_values_details = df.isnull().sum()  # Missing values per column\n",
        "    missing_rows = df[df.isnull().any(axis=1)]  # Rows with any missing values\n",
        "\n",
        "    print(f'Missing values for {name}:\\n{missing_values_details}\\n')\n",
        "    print(f'Total missing values in {name}: {missing_values_count}\\n')\n",
        "\n",
        "    if not missing_rows.empty:\n",
        "        print(f'Rows with missing values in {name}:\\n{missing_rows}\\n')\n",
        "    else:\n",
        "        print(f'No missing values in {name}.\\n')\n",
        "\n",
        "    return missing_rows\n",
        "\n",
        "# Check for missing values in all DataFrames\n",
        "tesla_missing_rows = check_missing_values(df_tesla, \"Tesla\")\n",
        "unemployment_missing_rows = check_missing_values(df_unemployment, \"Unemployment\")\n",
        "btc_search_missing_rows = check_missing_values(df_btc_search, \"Bitcoin Search\")\n",
        "btc_price_missing_rows = check_missing_values(df_btc_price, \"Bitcoin Price\")\n"
      ]
    },
    {
      "cell_type": "markdown",
      "metadata": {
        "id": "9q9nhUQsG7NN"
      },
      "source": [
        "**Challenge**: Remove any missing values that you found."
      ]
    },
    {
      "cell_type": "code",
      "execution_count": 25,
      "metadata": {
        "colab": {
          "base_uri": "https://localhost:8080/"
        },
        "id": "qrU7Qz8rG7NN",
        "outputId": "4deec08b-63ce-4710-9976-76c9d70b6d05"
      },
      "outputs": [
        {
          "output_type": "stream",
          "name": "stdout",
          "text": [
            "Shapes after removing missing values:\n",
            "Tesla: (124, 3)\n",
            "Unemployment: (181, 3)\n",
            "Bitcoin Search: (73, 2)\n",
            "Bitcoin Price: (2203, 3)\n"
          ]
        }
      ],
      "source": [
        "# Remove rows with missing values\n",
        "df_tesla_cleaned = df_tesla.dropna()\n",
        "df_unemployment_cleaned = df_unemployment.dropna()\n",
        "df_btc_search_cleaned = df_btc_search.dropna()\n",
        "df_btc_price_cleaned = df_btc_price.dropna()\n",
        "\n",
        "# Print the shapes of the cleaned DataFrames\n",
        "print(\"Shapes after removing missing values:\")\n",
        "print(f'Tesla: {df_tesla_cleaned.shape}')\n",
        "print(f'Unemployment: {df_unemployment_cleaned.shape}')\n",
        "print(f'Bitcoin Search: {df_btc_search_cleaned.shape}')\n",
        "print(f'Bitcoin Price: {df_btc_price_cleaned.shape}')\n"
      ]
    },
    {
      "cell_type": "markdown",
      "metadata": {
        "id": "QCp-x5QKG7NN"
      },
      "source": [
        "### Convert Strings to DateTime Objects"
      ]
    },
    {
      "cell_type": "markdown",
      "metadata": {
        "id": "oIDyVZXqG7NN"
      },
      "source": [
        "**Challenge**: Check the data type of the entries in the DataFrame MONTH or DATE columns. Convert any strings in to Datetime objects. Do this for all 4 DataFrames. Double check if your type conversion was successful."
      ]
    },
    {
      "cell_type": "code",
      "execution_count": 26,
      "metadata": {
        "id": "9fdjPTThG7NN"
      },
      "outputs": [],
      "source": [
        "# Function to check and convert date columns\n",
        "def convert_to_datetime(df, date_column, name):\n",
        "    print(f'Data types in {name} before conversion:\\n{df.dtypes}\\n')\n",
        "\n",
        "    # Convert the date column to datetime\n",
        "    df[date_column] = pd.to_datetime(df[date_column], errors='coerce')\n",
        "\n",
        "    # Check the data types after conversion\n",
        "    print(f'Data types in {name} after conversion:\\n{df.dtypes}\\n')\n",
        "\n",
        "    return df"
      ]
    },
    {
      "cell_type": "code",
      "execution_count": 28,
      "metadata": {
        "colab": {
          "base_uri": "https://localhost:8080/"
        },
        "id": "nCc0bR7sG7NN",
        "outputId": "b7296386-c5c7-449d-b2a2-65b7d7cb569f"
      },
      "outputs": [
        {
          "output_type": "stream",
          "name": "stdout",
          "text": [
            "Data types in Tesla before conversion:\n",
            "MONTH              datetime64[ns]\n",
            "TSLA_WEB_SEARCH             int64\n",
            "TSLA_USD_CLOSE            float64\n",
            "dtype: object\n",
            "\n",
            "Data types in Tesla after conversion:\n",
            "MONTH              datetime64[ns]\n",
            "TSLA_WEB_SEARCH             int64\n",
            "TSLA_USD_CLOSE            float64\n",
            "dtype: object\n",
            "\n",
            "Data types in Unemployment before conversion:\n",
            "MONTH                     datetime64[ns]\n",
            "UE_BENEFITS_WEB_SEARCH             int64\n",
            "UNRATE                           float64\n",
            "dtype: object\n",
            "\n",
            "Data types in Unemployment after conversion:\n",
            "MONTH                     datetime64[ns]\n",
            "UE_BENEFITS_WEB_SEARCH             int64\n",
            "UNRATE                           float64\n",
            "dtype: object\n",
            "\n",
            "Data types in Bitcoin Search before conversion:\n",
            "MONTH              datetime64[ns]\n",
            "BTC_NEWS_SEARCH             int64\n",
            "dtype: object\n",
            "\n",
            "Data types in Bitcoin Search after conversion:\n",
            "MONTH              datetime64[ns]\n",
            "BTC_NEWS_SEARCH             int64\n",
            "dtype: object\n",
            "\n",
            "Data types in Bitcoin Price before conversion:\n",
            "DATE      datetime64[ns]\n",
            "CLOSE            float64\n",
            "VOLUME           float64\n",
            "dtype: object\n",
            "\n",
            "Data types in Bitcoin Price after conversion:\n",
            "DATE      datetime64[ns]\n",
            "CLOSE            float64\n",
            "VOLUME           float64\n",
            "dtype: object\n",
            "\n",
            "DataFrame: Tesla\n",
            "<class 'pandas.core.frame.DataFrame'>\n",
            "RangeIndex: 124 entries, 0 to 123\n",
            "Data columns (total 3 columns):\n",
            " #   Column           Non-Null Count  Dtype         \n",
            "---  ------           --------------  -----         \n",
            " 0   MONTH            124 non-null    datetime64[ns]\n",
            " 1   TSLA_WEB_SEARCH  124 non-null    int64         \n",
            " 2   TSLA_USD_CLOSE   124 non-null    float64       \n",
            "dtypes: datetime64[ns](1), float64(1), int64(1)\n",
            "memory usage: 3.0 KB\n",
            "\n",
            "====================\n",
            "\n",
            "DataFrame: Unemployment\n",
            "<class 'pandas.core.frame.DataFrame'>\n",
            "RangeIndex: 181 entries, 0 to 180\n",
            "Data columns (total 3 columns):\n",
            " #   Column                  Non-Null Count  Dtype         \n",
            "---  ------                  --------------  -----         \n",
            " 0   MONTH                   181 non-null    datetime64[ns]\n",
            " 1   UE_BENEFITS_WEB_SEARCH  181 non-null    int64         \n",
            " 2   UNRATE                  181 non-null    float64       \n",
            "dtypes: datetime64[ns](1), float64(1), int64(1)\n",
            "memory usage: 4.4 KB\n",
            "\n",
            "====================\n",
            "\n",
            "DataFrame: Bitcoin Search\n",
            "<class 'pandas.core.frame.DataFrame'>\n",
            "RangeIndex: 73 entries, 0 to 72\n",
            "Data columns (total 2 columns):\n",
            " #   Column           Non-Null Count  Dtype         \n",
            "---  ------           --------------  -----         \n",
            " 0   MONTH            73 non-null     datetime64[ns]\n",
            " 1   BTC_NEWS_SEARCH  73 non-null     int64         \n",
            "dtypes: datetime64[ns](1), int64(1)\n",
            "memory usage: 1.3 KB\n",
            "\n",
            "====================\n",
            "\n",
            "DataFrame: Bitcoin Price\n",
            "<class 'pandas.core.frame.DataFrame'>\n",
            "RangeIndex: 2204 entries, 0 to 2203\n",
            "Data columns (total 3 columns):\n",
            " #   Column  Non-Null Count  Dtype         \n",
            "---  ------  --------------  -----         \n",
            " 0   DATE    2204 non-null   datetime64[ns]\n",
            " 1   CLOSE   2203 non-null   float64       \n",
            " 2   VOLUME  2203 non-null   float64       \n",
            "dtypes: datetime64[ns](1), float64(2)\n",
            "memory usage: 51.8 KB\n",
            "\n",
            "====================\n",
            "\n"
          ]
        }
      ],
      "source": [
        "# Convert date columns in all DataFrames\n",
        "df_tesla = convert_to_datetime(df_tesla, 'MONTH', \"Tesla\")\n",
        "df_unemployment = convert_to_datetime(df_unemployment, 'MONTH', \"Unemployment\")\n",
        "df_btc_search = convert_to_datetime(df_btc_search, 'MONTH', \"Bitcoin Search\")\n",
        "df_btc_price = convert_to_datetime(df_btc_price, 'DATE', \"Bitcoin Price\")\n",
        "\n",
        "# Display info for each DataFrame\n",
        "dataframes = [df_tesla, df_unemployment, df_btc_search, df_btc_price]\n",
        "names = [\"Tesla\", \"Unemployment\", \"Bitcoin Search\", \"Bitcoin Price\"]\n",
        "\n",
        "for df, name in zip(dataframes, names):\n",
        "    print(f\"DataFrame: {name}\")\n",
        "    df.info()  # Display DataFrame info for better readability\n",
        "    print(\"\\n\" + \"=\" * 20 + \"\\n\")  # Separator for clarity"
      ]
    },
    {
      "cell_type": "markdown",
      "metadata": {
        "id": "Yjs3yLsdG7NN"
      },
      "source": [
        "### Converting from Daily to Monthly Data\n",
        "\n",
        "[Pandas .resample() documentation](https://pandas.pydata.org/pandas-docs/stable/reference/api/pandas.DataFrame.resample.html) <br>"
      ]
    },
    {
      "cell_type": "code",
      "execution_count": 49,
      "metadata": {
        "colab": {
          "base_uri": "https://localhost:8080/",
          "height": 492
        },
        "id": "X94ukvlpG7NO",
        "outputId": "6b34ff43-e319-4b54-9f7b-bc53d9fa9642"
      },
      "outputs": [
        {
          "output_type": "stream",
          "name": "stderr",
          "text": [
            "<ipython-input-49-c127d46dbb89>:2: FutureWarning: 'M' is deprecated and will be removed in a future version, please use 'ME' instead.\n",
            "  df_btc_price.resample('M', on='DATE').last()\n"
          ]
        },
        {
          "output_type": "execute_result",
          "data": {
            "text/plain": [
              "                   CLOSE        VOLUME\n",
              "DATE                                  \n",
              "2014-09-30    386.944000  3.470730e+07\n",
              "2014-10-31    338.321014  1.254540e+07\n",
              "2014-11-30    378.046997  9.194440e+06\n",
              "2014-12-31    320.192993  1.394290e+07\n",
              "2015-01-31    217.464005  2.334820e+07\n",
              "...                  ...           ...\n",
              "2020-05-31   9461.058594  2.777329e+10\n",
              "2020-06-30   9137.993164  1.573580e+10\n",
              "2020-07-31  11323.466797  2.316047e+10\n",
              "2020-08-31  11680.820313  2.228593e+10\n",
              "2020-09-30  10912.536133  2.122653e+10\n",
              "\n",
              "[73 rows x 2 columns]"
            ],
            "text/html": [
              "\n",
              "  <div id=\"df-3232d1b7-d539-43a4-b329-1fe9ec241927\" class=\"colab-df-container\">\n",
              "    <div>\n",
              "<style scoped>\n",
              "    .dataframe tbody tr th:only-of-type {\n",
              "        vertical-align: middle;\n",
              "    }\n",
              "\n",
              "    .dataframe tbody tr th {\n",
              "        vertical-align: top;\n",
              "    }\n",
              "\n",
              "    .dataframe thead th {\n",
              "        text-align: right;\n",
              "    }\n",
              "</style>\n",
              "<table border=\"1\" class=\"dataframe\">\n",
              "  <thead>\n",
              "    <tr style=\"text-align: right;\">\n",
              "      <th></th>\n",
              "      <th>CLOSE</th>\n",
              "      <th>VOLUME</th>\n",
              "    </tr>\n",
              "    <tr>\n",
              "      <th>DATE</th>\n",
              "      <th></th>\n",
              "      <th></th>\n",
              "    </tr>\n",
              "  </thead>\n",
              "  <tbody>\n",
              "    <tr>\n",
              "      <th>2014-09-30</th>\n",
              "      <td>386.944000</td>\n",
              "      <td>3.470730e+07</td>\n",
              "    </tr>\n",
              "    <tr>\n",
              "      <th>2014-10-31</th>\n",
              "      <td>338.321014</td>\n",
              "      <td>1.254540e+07</td>\n",
              "    </tr>\n",
              "    <tr>\n",
              "      <th>2014-11-30</th>\n",
              "      <td>378.046997</td>\n",
              "      <td>9.194440e+06</td>\n",
              "    </tr>\n",
              "    <tr>\n",
              "      <th>2014-12-31</th>\n",
              "      <td>320.192993</td>\n",
              "      <td>1.394290e+07</td>\n",
              "    </tr>\n",
              "    <tr>\n",
              "      <th>2015-01-31</th>\n",
              "      <td>217.464005</td>\n",
              "      <td>2.334820e+07</td>\n",
              "    </tr>\n",
              "    <tr>\n",
              "      <th>...</th>\n",
              "      <td>...</td>\n",
              "      <td>...</td>\n",
              "    </tr>\n",
              "    <tr>\n",
              "      <th>2020-05-31</th>\n",
              "      <td>9461.058594</td>\n",
              "      <td>2.777329e+10</td>\n",
              "    </tr>\n",
              "    <tr>\n",
              "      <th>2020-06-30</th>\n",
              "      <td>9137.993164</td>\n",
              "      <td>1.573580e+10</td>\n",
              "    </tr>\n",
              "    <tr>\n",
              "      <th>2020-07-31</th>\n",
              "      <td>11323.466797</td>\n",
              "      <td>2.316047e+10</td>\n",
              "    </tr>\n",
              "    <tr>\n",
              "      <th>2020-08-31</th>\n",
              "      <td>11680.820313</td>\n",
              "      <td>2.228593e+10</td>\n",
              "    </tr>\n",
              "    <tr>\n",
              "      <th>2020-09-30</th>\n",
              "      <td>10912.536133</td>\n",
              "      <td>2.122653e+10</td>\n",
              "    </tr>\n",
              "  </tbody>\n",
              "</table>\n",
              "<p>73 rows × 2 columns</p>\n",
              "</div>\n",
              "    <div class=\"colab-df-buttons\">\n",
              "\n",
              "  <div class=\"colab-df-container\">\n",
              "    <button class=\"colab-df-convert\" onclick=\"convertToInteractive('df-3232d1b7-d539-43a4-b329-1fe9ec241927')\"\n",
              "            title=\"Convert this dataframe to an interactive table.\"\n",
              "            style=\"display:none;\">\n",
              "\n",
              "  <svg xmlns=\"http://www.w3.org/2000/svg\" height=\"24px\" viewBox=\"0 -960 960 960\">\n",
              "    <path d=\"M120-120v-720h720v720H120Zm60-500h600v-160H180v160Zm220 220h160v-160H400v160Zm0 220h160v-160H400v160ZM180-400h160v-160H180v160Zm440 0h160v-160H620v160ZM180-180h160v-160H180v160Zm440 0h160v-160H620v160Z\"/>\n",
              "  </svg>\n",
              "    </button>\n",
              "\n",
              "  <style>\n",
              "    .colab-df-container {\n",
              "      display:flex;\n",
              "      gap: 12px;\n",
              "    }\n",
              "\n",
              "    .colab-df-convert {\n",
              "      background-color: #E8F0FE;\n",
              "      border: none;\n",
              "      border-radius: 50%;\n",
              "      cursor: pointer;\n",
              "      display: none;\n",
              "      fill: #1967D2;\n",
              "      height: 32px;\n",
              "      padding: 0 0 0 0;\n",
              "      width: 32px;\n",
              "    }\n",
              "\n",
              "    .colab-df-convert:hover {\n",
              "      background-color: #E2EBFA;\n",
              "      box-shadow: 0px 1px 2px rgba(60, 64, 67, 0.3), 0px 1px 3px 1px rgba(60, 64, 67, 0.15);\n",
              "      fill: #174EA6;\n",
              "    }\n",
              "\n",
              "    .colab-df-buttons div {\n",
              "      margin-bottom: 4px;\n",
              "    }\n",
              "\n",
              "    [theme=dark] .colab-df-convert {\n",
              "      background-color: #3B4455;\n",
              "      fill: #D2E3FC;\n",
              "    }\n",
              "\n",
              "    [theme=dark] .colab-df-convert:hover {\n",
              "      background-color: #434B5C;\n",
              "      box-shadow: 0px 1px 3px 1px rgba(0, 0, 0, 0.15);\n",
              "      filter: drop-shadow(0px 1px 2px rgba(0, 0, 0, 0.3));\n",
              "      fill: #FFFFFF;\n",
              "    }\n",
              "  </style>\n",
              "\n",
              "    <script>\n",
              "      const buttonEl =\n",
              "        document.querySelector('#df-3232d1b7-d539-43a4-b329-1fe9ec241927 button.colab-df-convert');\n",
              "      buttonEl.style.display =\n",
              "        google.colab.kernel.accessAllowed ? 'block' : 'none';\n",
              "\n",
              "      async function convertToInteractive(key) {\n",
              "        const element = document.querySelector('#df-3232d1b7-d539-43a4-b329-1fe9ec241927');\n",
              "        const dataTable =\n",
              "          await google.colab.kernel.invokeFunction('convertToInteractive',\n",
              "                                                    [key], {});\n",
              "        if (!dataTable) return;\n",
              "\n",
              "        const docLinkHtml = 'Like what you see? Visit the ' +\n",
              "          '<a target=\"_blank\" href=https://colab.research.google.com/notebooks/data_table.ipynb>data table notebook</a>'\n",
              "          + ' to learn more about interactive tables.';\n",
              "        element.innerHTML = '';\n",
              "        dataTable['output_type'] = 'display_data';\n",
              "        await google.colab.output.renderOutput(dataTable, element);\n",
              "        const docLink = document.createElement('div');\n",
              "        docLink.innerHTML = docLinkHtml;\n",
              "        element.appendChild(docLink);\n",
              "      }\n",
              "    </script>\n",
              "  </div>\n",
              "\n",
              "\n",
              "<div id=\"df-ff9a8010-8395-4949-b837-3e0960cd2d82\">\n",
              "  <button class=\"colab-df-quickchart\" onclick=\"quickchart('df-ff9a8010-8395-4949-b837-3e0960cd2d82')\"\n",
              "            title=\"Suggest charts\"\n",
              "            style=\"display:none;\">\n",
              "\n",
              "<svg xmlns=\"http://www.w3.org/2000/svg\" height=\"24px\"viewBox=\"0 0 24 24\"\n",
              "     width=\"24px\">\n",
              "    <g>\n",
              "        <path d=\"M19 3H5c-1.1 0-2 .9-2 2v14c0 1.1.9 2 2 2h14c1.1 0 2-.9 2-2V5c0-1.1-.9-2-2-2zM9 17H7v-7h2v7zm4 0h-2V7h2v10zm4 0h-2v-4h2v4z\"/>\n",
              "    </g>\n",
              "</svg>\n",
              "  </button>\n",
              "\n",
              "<style>\n",
              "  .colab-df-quickchart {\n",
              "      --bg-color: #E8F0FE;\n",
              "      --fill-color: #1967D2;\n",
              "      --hover-bg-color: #E2EBFA;\n",
              "      --hover-fill-color: #174EA6;\n",
              "      --disabled-fill-color: #AAA;\n",
              "      --disabled-bg-color: #DDD;\n",
              "  }\n",
              "\n",
              "  [theme=dark] .colab-df-quickchart {\n",
              "      --bg-color: #3B4455;\n",
              "      --fill-color: #D2E3FC;\n",
              "      --hover-bg-color: #434B5C;\n",
              "      --hover-fill-color: #FFFFFF;\n",
              "      --disabled-bg-color: #3B4455;\n",
              "      --disabled-fill-color: #666;\n",
              "  }\n",
              "\n",
              "  .colab-df-quickchart {\n",
              "    background-color: var(--bg-color);\n",
              "    border: none;\n",
              "    border-radius: 50%;\n",
              "    cursor: pointer;\n",
              "    display: none;\n",
              "    fill: var(--fill-color);\n",
              "    height: 32px;\n",
              "    padding: 0;\n",
              "    width: 32px;\n",
              "  }\n",
              "\n",
              "  .colab-df-quickchart:hover {\n",
              "    background-color: var(--hover-bg-color);\n",
              "    box-shadow: 0 1px 2px rgba(60, 64, 67, 0.3), 0 1px 3px 1px rgba(60, 64, 67, 0.15);\n",
              "    fill: var(--button-hover-fill-color);\n",
              "  }\n",
              "\n",
              "  .colab-df-quickchart-complete:disabled,\n",
              "  .colab-df-quickchart-complete:disabled:hover {\n",
              "    background-color: var(--disabled-bg-color);\n",
              "    fill: var(--disabled-fill-color);\n",
              "    box-shadow: none;\n",
              "  }\n",
              "\n",
              "  .colab-df-spinner {\n",
              "    border: 2px solid var(--fill-color);\n",
              "    border-color: transparent;\n",
              "    border-bottom-color: var(--fill-color);\n",
              "    animation:\n",
              "      spin 1s steps(1) infinite;\n",
              "  }\n",
              "\n",
              "  @keyframes spin {\n",
              "    0% {\n",
              "      border-color: transparent;\n",
              "      border-bottom-color: var(--fill-color);\n",
              "      border-left-color: var(--fill-color);\n",
              "    }\n",
              "    20% {\n",
              "      border-color: transparent;\n",
              "      border-left-color: var(--fill-color);\n",
              "      border-top-color: var(--fill-color);\n",
              "    }\n",
              "    30% {\n",
              "      border-color: transparent;\n",
              "      border-left-color: var(--fill-color);\n",
              "      border-top-color: var(--fill-color);\n",
              "      border-right-color: var(--fill-color);\n",
              "    }\n",
              "    40% {\n",
              "      border-color: transparent;\n",
              "      border-right-color: var(--fill-color);\n",
              "      border-top-color: var(--fill-color);\n",
              "    }\n",
              "    60% {\n",
              "      border-color: transparent;\n",
              "      border-right-color: var(--fill-color);\n",
              "    }\n",
              "    80% {\n",
              "      border-color: transparent;\n",
              "      border-right-color: var(--fill-color);\n",
              "      border-bottom-color: var(--fill-color);\n",
              "    }\n",
              "    90% {\n",
              "      border-color: transparent;\n",
              "      border-bottom-color: var(--fill-color);\n",
              "    }\n",
              "  }\n",
              "</style>\n",
              "\n",
              "  <script>\n",
              "    async function quickchart(key) {\n",
              "      const quickchartButtonEl =\n",
              "        document.querySelector('#' + key + ' button');\n",
              "      quickchartButtonEl.disabled = true;  // To prevent multiple clicks.\n",
              "      quickchartButtonEl.classList.add('colab-df-spinner');\n",
              "      try {\n",
              "        const charts = await google.colab.kernel.invokeFunction(\n",
              "            'suggestCharts', [key], {});\n",
              "      } catch (error) {\n",
              "        console.error('Error during call to suggestCharts:', error);\n",
              "      }\n",
              "      quickchartButtonEl.classList.remove('colab-df-spinner');\n",
              "      quickchartButtonEl.classList.add('colab-df-quickchart-complete');\n",
              "    }\n",
              "    (() => {\n",
              "      let quickchartButtonEl =\n",
              "        document.querySelector('#df-ff9a8010-8395-4949-b837-3e0960cd2d82 button');\n",
              "      quickchartButtonEl.style.display =\n",
              "        google.colab.kernel.accessAllowed ? 'block' : 'none';\n",
              "    })();\n",
              "  </script>\n",
              "</div>\n",
              "\n",
              "    </div>\n",
              "  </div>\n"
            ],
            "application/vnd.google.colaboratory.intrinsic+json": {
              "type": "dataframe",
              "summary": "{\n  \"name\": \"df_btc_price\",\n  \"rows\": 73,\n  \"fields\": [\n    {\n      \"column\": \"DATE\",\n      \"properties\": {\n        \"dtype\": \"date\",\n        \"min\": \"2014-09-30 00:00:00\",\n        \"max\": \"2020-09-30 00:00:00\",\n        \"num_unique_values\": 73,\n        \"samples\": [\n          \"2015-01-31 00:00:00\",\n          \"2019-12-31 00:00:00\",\n          \"2016-03-31 00:00:00\"\n        ],\n        \"semantic_type\": \"\",\n        \"description\": \"\"\n      }\n    },\n    {\n      \"column\": \"CLOSE\",\n      \"properties\": {\n        \"dtype\": \"number\",\n        \"std\": 4089.0213193327827,\n        \"min\": 217.464005,\n        \"max\": 14156.400391,\n        \"num_unique_values\": 73,\n        \"samples\": [\n          217.464005,\n          7193.599121,\n          416.729004\n        ],\n        \"semantic_type\": \"\",\n        \"description\": \"\"\n      }\n    },\n    {\n      \"column\": \"VOLUME\",\n      \"properties\": {\n        \"dtype\": \"number\",\n        \"std\": 11929406938.587713,\n        \"min\": 9194440.0,\n        \"max\": 66964629541.0,\n        \"num_unique_values\": 73,\n        \"samples\": [\n          23348200.0,\n          21167946112.0,\n          60215200.0\n        ],\n        \"semantic_type\": \"\",\n        \"description\": \"\"\n      }\n    }\n  ]\n}"
            }
          },
          "metadata": {},
          "execution_count": 49
        }
      ],
      "source": [
        "# Resample Bitcoin price data to monthly frequency\n",
        "df_btc_price.resample('M', on='DATE').last()\n"
      ]
    },
    {
      "cell_type": "code",
      "source": [
        "df_btc_monthly = df_btc_price.resample('M', on='DATE').last()"
      ],
      "metadata": {
        "colab": {
          "base_uri": "https://localhost:8080/"
        },
        "id": "5-UWfsknarce",
        "outputId": "a0985ba9-bb88-4144-aed7-bc5a10636b63"
      },
      "execution_count": 50,
      "outputs": [
        {
          "output_type": "stream",
          "name": "stderr",
          "text": [
            "<ipython-input-50-aae66ff3dd78>:1: FutureWarning: 'M' is deprecated and will be removed in a future version, please use 'ME' instead.\n",
            "  df_btc_monthly = df_btc_price.resample('M', on='DATE').last()\n"
          ]
        }
      ]
    },
    {
      "cell_type": "markdown",
      "metadata": {
        "id": "_ET3UXeuG7NO"
      },
      "source": [
        "# Data Visualisation"
      ]
    },
    {
      "cell_type": "markdown",
      "metadata": {
        "id": "3x3Ka9-hG7NO"
      },
      "source": [
        "### Notebook Formatting & Style Helpers"
      ]
    },
    {
      "cell_type": "code",
      "source": [
        "import matplotlib.dates as mdates\n"
      ],
      "metadata": {
        "id": "tl3ojeN-XqPW"
      },
      "execution_count": 34,
      "outputs": []
    },
    {
      "cell_type": "markdown",
      "metadata": {
        "id": "dancS_ahG7NT"
      },
      "source": [
        "### Tesla Stock Price v.s. Search Volume"
      ]
    },
    {
      "cell_type": "markdown",
      "metadata": {
        "id": "R_lSB9-VG7NU"
      },
      "source": [
        "**Challenge:** Plot the Tesla stock price against the Tesla search volume using a line chart and two different axes. Label one axis 'TSLA Stock Price' and the other 'Search Trend'."
      ]
    },
    {
      "cell_type": "code",
      "execution_count": 52,
      "metadata": {
        "colab": {
          "base_uri": "https://localhost:8080/",
          "height": 730
        },
        "id": "cmnVqlmZG7NU",
        "outputId": "ce31ba44-c5fc-4991-d34c-94dd809928e2"
      },
      "outputs": [
        {
          "output_type": "display_data",
          "data": {
            "text/plain": [
              "<Figure size 1400x800 with 2 Axes>"
            ],
            "image/png": "[encoded data removed]"
          },
          "metadata": {}
        }
      ],
      "source": [
        "import pandas as pd\n",
        "import matplotlib.pyplot as plt\n",
        "import matplotlib.dates as mdates\n",
        "\n",
        "# Create a larger figure and axis with increased size\n",
        "fig, ax1 = plt.subplots(figsize=(14, 8))\n",
        "\n",
        "# Plot Tesla stock price on the primary y-axis with thicker lines\n",
        "ax1.set_xlabel('Year', fontsize=14)\n",
        "ax1.set_ylabel('Tesla Stock Price (USD)', color='blue', fontsize=14)\n",
        "ax1.plot(df_tesla['MONTH'], df_tesla['TSLA_USD_CLOSE'], color='blue', label='Tesla Stock Price', linewidth=2)\n",
        "ax1.tick_params(axis='y', labelcolor='blue', labelsize=14)\n",
        "\n",
        "# Set limits for the primary y-axis\n",
        "ax1.set_ylim(df_tesla['TSLA_USD_CLOSE'].min() * 0.95, df_tesla['TSLA_USD_CLOSE'].max() * 1.05)\n",
        "\n",
        "# Create a secondary y-axis for search volume\n",
        "ax2 = ax1.twinx()\n",
        "ax2.set_ylabel('Tesla Search Volume', color='orange', fontsize=14)\n",
        "ax2.plot(df_tesla['MONTH'], df_tesla['TSLA_WEB_SEARCH'], color='orange', label='Tesla Search Volume', linewidth=2)\n",
        "ax2.tick_params(axis='y', labelcolor='orange', labelsize=14)\n",
        "\n",
        "# Set limits for the secondary y-axis\n",
        "ax2.set_ylim(df_tesla['TSLA_WEB_SEARCH'].min() * 0.95, df_tesla['TSLA_WEB_SEARCH'].max() * 1.05)\n",
        "\n",
        "# Set x-axis limits\n",
        "ax1.set_xlim(df_tesla['MONTH'].min(), df_tesla['MONTH'].max())\n",
        "\n",
        "# Increase font size for x-ticks\n",
        "ax1.tick_params(axis='x', labelsize=14)\n",
        "\n",
        "# Add title with increased font size\n",
        "plt.title('Tesla Web Search vs Price', fontsize=16)\n",
        "\n",
        "# Add legends\n",
        "ax1.legend(loc='upper left', fontsize=12)\n",
        "ax2.legend(loc='upper right', fontsize=12)\n",
        "\n",
        "# Adjust the grid\n",
        "ax1.grid(color='gray', linestyle='--', linewidth=0.5)\n",
        "\n",
        "# Use Date Locators for x-axis to show only the year\n",
        "ax1.xaxis.set_major_locator(mdates.YearLocator())  # Set major ticks to every year\n",
        "ax1.xaxis.set_major_formatter(mdates.DateFormatter('%Y'))  # Format the date labels to show only the year\n",
        "\n",
        "# Set vertical alignment of x-axis labels\n",
        "plt.xticks(rotation=90, ha='center', va='center')\n",
        "\n",
        "# Set the DPI for better resolution\n",
        "plt.savefig('/content/tesla_web_search_vs_price.png', dpi=300)\n",
        "\n",
        "# Show the plot\n",
        "plt.show()\n"
      ]
    },
    {
      "cell_type": "markdown",
      "metadata": {
        "id": "0OEDFFqPG7NU"
      },
      "source": [
        "**Challenge**: Add colours to style the chart. This will help differentiate the two lines and the axis labels. Try using one of the blue [colour names](https://matplotlib.org/3.1.1/gallery/color/named_colors.html) for the search volume and a HEX code for a red colour for the stock price.\n",
        "<br>\n",
        "<br>\n",
        "Hint: you can colour both the [axis labels](https://matplotlib.org/3.3.2/api/text_api.html#matplotlib.text.Text) and the [lines](https://matplotlib.org/3.2.1/api/_as_gen/matplotlib.lines.Line2D.html#matplotlib.lines.Line2D) on the chart using keyword arguments (kwargs).  "
      ]
    },
    {
      "cell_type": "code",
      "execution_count": null,
      "metadata": {
        "id": "7mzX13MAG7NU"
      },
      "outputs": [],
      "source": []
    },
    {
      "cell_type": "markdown",
      "metadata": {
        "id": "zmG-TkNZG7NU"
      },
      "source": [
        "**Challenge**: Make the chart larger and easier to read.\n",
        "1. Increase the figure size (e.g., to 14 by 8).\n",
        "2. Increase the font sizes for the labels and the ticks on the x-axis to 14.\n",
        "3. Rotate the text on the x-axis by 45 degrees.\n",
        "4. Make the lines on the chart thicker.\n",
        "5. Add a title that reads 'Tesla Web Search vs Price'\n",
        "6. Keep the chart looking sharp by changing the dots-per-inch or [DPI value](https://matplotlib.org/3.1.1/api/_as_gen/matplotlib.pyplot.figure.html).\n",
        "7. Set minimum and maximum values for the y and x axis. Hint: check out methods like [set_xlim()](https://matplotlib.org/3.1.1/api/_as_gen/matplotlib.axes.Axes.set_xlim.html).\n",
        "8. Finally use [plt.show()](https://matplotlib.org/3.2.1/api/_as_gen/matplotlib.pyplot.show.html) to display the chart below the cell instead of relying on the automatic notebook output."
      ]
    },
    {
      "cell_type": "markdown",
      "metadata": {
        "id": "9yu9r3r6G7NU"
      },
      "source": [
        "How to add tick formatting for dates on the x-axis."
      ]
    },
    {
      "cell_type": "markdown",
      "metadata": {
        "id": "z2dZg-WoG7NU"
      },
      "source": [
        "### Bitcoin (BTC) Price v.s. Search Volume"
      ]
    },
    {
      "cell_type": "markdown",
      "metadata": {
        "id": "D22lpc6hG7NV"
      },
      "source": [
        "**Challenge**: Create the same chart for the Bitcoin Prices vs. Search volumes. <br>\n",
        "1. Modify the chart title to read 'Bitcoin News Search vs Resampled Price' <br>\n",
        "2. Change the y-axis label to 'BTC Price' <br>\n",
        "3. Change the y- and x-axis limits to improve the appearance <br>\n",
        "4. Investigate the [linestyles](https://matplotlib.org/3.2.1/api/_as_gen/matplotlib.pyplot.plot.html ) to make the BTC price a dashed line <br>\n",
        "5. Investigate the [marker types](https://matplotlib.org/3.2.1/api/markers_api.html) to make the search datapoints little circles <br>\n",
        "6. Were big increases in searches for Bitcoin accompanied by big increases in the price?"
      ]
    },
    {
      "cell_type": "code",
      "source": [
        "# Check the column names in df_btc_monthly\n",
        "print(df_btc_monthly.columns)\n"
      ],
      "metadata": {
        "colab": {
          "base_uri": "https://localhost:8080/"
        },
        "id": "_-GSvaoDbBSp",
        "outputId": "3d3d1949-bbcd-4d1d-86a0-7871ace44c38"
      },
      "execution_count": 54,
      "outputs": [
        {
          "output_type": "stream",
          "name": "stdout",
          "text": [
            "Index(['CLOSE', 'VOLUME'], dtype='object')\n"
          ]
        }
      ]
    },
    {
      "cell_type": "code",
      "execution_count": 55,
      "metadata": {
        "colab": {
          "base_uri": "https://localhost:8080/",
          "height": 730
        },
        "id": "WCwMoY91G7NV",
        "outputId": "b1fe45f8-1d1e-4094-bd9c-1c896a2ae5cc"
      },
      "outputs": [
        {
          "output_type": "display_data",
          "data": {
            "text/plain": [
              "<Figure size 1400x800 with 2 Axes>"
            ],
            "image/png": "[encoded data removed]"
          },
          "metadata": {}
        }
      ],
      "source": [
        "import pandas as pd\n",
        "import matplotlib.pyplot as plt\n",
        "import matplotlib.dates as mdates\n",
        "\n",
        "# Create a larger figure and axis with increased size\n",
        "fig, ax1 = plt.subplots(figsize=(14, 8))\n",
        "\n",
        "# Plot Bitcoin closing price on the primary y-axis with thicker dashed lines\n",
        "ax1.set_xlabel('Year', fontsize=14)\n",
        "ax1.set_ylabel('BTC Price (USD)', color='blue', fontsize=14)\n",
        "ax1.plot(df_btc_monthly.index, df_btc_monthly['CLOSE'], color='blue', label='BTC Price', linewidth=2, linestyle='--')  # Assuming the index is set to date\n",
        "ax1.tick_params(axis='y', labelcolor='blue', labelsize=14)\n",
        "\n",
        "# Set limits for the primary y-axis\n",
        "ax1.set_ylim(df_btc_monthly['CLOSE'].min() * 0.95, df_btc_monthly['CLOSE'].max() * 1.05)\n",
        "\n",
        "# Create a secondary y-axis for search volume\n",
        "ax2 = ax1.twinx()\n",
        "ax2.set_ylabel('Bitcoin Search Volume', color='orange', fontsize=14)\n",
        "ax2.plot(df_btc_search['MONTH'], df_btc_search['BTC_NEWS_SEARCH'], color='orange', label='Bitcoin Search Volume',\n",
        "         linewidth=2, marker='o')  # Use circles for search data points\n",
        "ax2.tick_params(axis='y', labelcolor='orange', labelsize=14)\n",
        "\n",
        "# Set limits for the secondary y-axis\n",
        "ax2.set_ylim(df_btc_search['BTC_NEWS_SEARCH'].min() * 0.95, df_btc_search['BTC_NEWS_SEARCH'].max() * 1.05)\n",
        "\n",
        "# Set x-axis limits\n",
        "ax1.set_xlim(df_btc_monthly.index.min(), df_btc_monthly.index.max())\n",
        "\n",
        "# Increase font size for x-ticks\n",
        "ax1.tick_params(axis='x', labelsize=14)\n",
        "\n",
        "# Add title with increased font size\n",
        "plt.title('Bitcoin News Search vs Resampled Price', fontsize=16)\n",
        "\n",
        "# Add legends\n",
        "ax1.legend(loc='upper left', fontsize=12)\n",
        "ax2.legend(loc='upper right', fontsize=12)\n",
        "\n",
        "# Adjust the grid\n",
        "ax1.grid(color='gray', linestyle='--', linewidth=0.5)\n",
        "\n",
        "# Use Date Locators for x-axis to show only the year\n",
        "ax1.xaxis.set_major_locator(mdates.YearLocator())  # Set major ticks to every year\n",
        "ax1.xaxis.set_major_formatter(mdates.DateFormatter('%Y'))  # Format the date labels to show only the year\n",
        "\n",
        "# Set vertical alignment of x-axis labels\n",
        "plt.xticks(rotation=90, ha='center', va='center')\n",
        "\n",
        "# Set the DPI for better resolution\n",
        "plt.savefig('/content/bitcoin_news_search_vs_price.png', dpi=300)\n",
        "\n",
        "# Show the plot\n",
        "plt.show()\n"
      ]
    },
    {
      "cell_type": "markdown",
      "metadata": {
        "id": "l3xCEWEqG7NV"
      },
      "source": [
        "### Unemployement Benefits Search vs. Actual Unemployment in the U.S."
      ]
    },
    {
      "cell_type": "markdown",
      "metadata": {
        "id": "bpOQWSdTG7NV"
      },
      "source": [
        "**Challenge** Plot the search for \"unemployment benefits\" against the unemployment rate.\n",
        "1. Change the title to: Monthly Search of \"Unemployment Benefits\" in the U.S. vs the U/E Rate <br>\n",
        "2. Change the y-axis label to: FRED U/E Rate <br>\n",
        "3. Change the axis limits <br>\n",
        "4. Add a grey [grid](https://matplotlib.org/3.2.1/api/_as_gen/matplotlib.pyplot.grid.html) to the chart to better see the years and the U/E rate values. Use dashes for the line style<br>\n",
        "5. Can you discern any seasonality in the searches? Is there a pattern?"
      ]
    },
    {
      "cell_type": "code",
      "execution_count": null,
      "metadata": {
        "id": "hxjeSY44G7NV"
      },
      "outputs": [],
      "source": []
    },
    {
      "cell_type": "markdown",
      "metadata": {
        "id": "GcFnnA_2G7NV"
      },
      "source": [
        "**Challenge**: Calculate the 3-month or 6-month rolling average for the web searches. Plot the 6-month rolling average search data against the actual unemployment. What do you see in the chart? Which line moves first?\n"
      ]
    },
    {
      "cell_type": "code",
      "execution_count": null,
      "metadata": {
        "id": "6a55c42yG7NW"
      },
      "outputs": [],
      "source": []
    },
    {
      "cell_type": "markdown",
      "metadata": {
        "id": "BOkuRLwlG7NW"
      },
      "source": [
        "### Including 2020 in Unemployment Charts"
      ]
    },
    {
      "cell_type": "markdown",
      "metadata": {
        "id": "_r5B5zilG7NW"
      },
      "source": [
        "**Challenge**: Read the data in the 'UE Benefits Search vs UE Rate 2004-20.csv' into a DataFrame. Convert the MONTH column to Pandas Datetime objects and then plot the chart. What do you see?"
      ]
    },
    {
      "cell_type": "code",
      "execution_count": null,
      "metadata": {
        "id": "Tw_B2whYG7NW"
      },
      "outputs": [],
      "source": []
    },
    {
      "cell_type": "code",
      "execution_count": null,
      "metadata": {
        "id": "iTgJYi4AG7NW"
      },
      "outputs": [],
      "source": []
    },
    {
      "cell_type": "code",
      "execution_count": null,
      "metadata": {
        "id": "FjS9n3U9G7NW"
      },
      "outputs": [],
      "source": []
    }
  ],
  "metadata": {
    "kernelspec": {
      "display_name": "Python 3",
      "language": "python",
      "name": "python3"
    },
    "language_info": {
      "codemirror_mode": {
        "name": "ipython",
        "version": 3
      },
      "file_extension": ".py",
      "mimetype": "text/x-python",
      "name": "python",
      "nbconvert_exporter": "python",
      "pygments_lexer": "ipython3",
      "version": "3.7.3"
    },
    "colab": {
      "provenance": []
    }
  },
  "nbformat": 4,
  "nbformat_minor": 0
}